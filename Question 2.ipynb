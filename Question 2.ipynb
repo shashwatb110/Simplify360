{
 "cells": [
  {
   "cell_type": "code",
   "execution_count": 1,
   "id": "f6f97ce3",
   "metadata": {},
   "outputs": [
    {
     "name": "stdout",
     "output_type": "stream",
     "text": [
      "Common friends of Alice and Bob: set()\n",
      "Nth connection between Alice and Janice: 2\n",
      "Nth connection between Alice and Eve: 2\n",
      "Nth connection between Alice and Charlie: 1\n"
     ]
    }
   ],
   "source": [
    "from collections import deque, defaultdict\n",
    "\n",
    "class SocialNetwork:\n",
    "    def __init__(self):\n",
    "        self.network = defaultdict(set)\n",
    "\n",
    "    def add_friendship(self, person1, person2):\n",
    "        self.network[person1].add(person2)\n",
    "        self.network[person2].add(person1)\n",
    "\n",
    "    def find_common_friends(self, person1, person2):\n",
    "        return self.network[person1].intersection(self.network[person2])\n",
    "\n",
    "    def find_nth_connection(self, start, end):\n",
    "        if start == end:\n",
    "            return 0\n",
    "        \n",
    "        visited = set()\n",
    "        queue = deque([(start, 0)])\n",
    "\n",
    "        while queue:\n",
    "            current, level = queue.popleft()\n",
    "            \n",
    "            if current in visited:\n",
    "                continue\n",
    "\n",
    "            visited.add(current)\n",
    "            \n",
    "            for friend in self.network[current]:\n",
    "                if friend == end:\n",
    "                    return level + 1\n",
    "                if friend not in visited:\n",
    "                    queue.append((friend, level + 1))\n",
    "        \n",
    "        return -1\n",
    "\n",
    "def main():\n",
    "    sn = SocialNetwork()\n",
    "\n",
    "    # Example friendships\n",
    "    sn.add_friendship('Alice', 'Bob')\n",
    "    sn.add_friendship('Bob', 'Janice')\n",
    "    sn.add_friendship('Alice', 'Charlie')\n",
    "    sn.add_friendship('Charlie', 'David')\n",
    "    sn.add_friendship('David', 'Janice')\n",
    "    sn.add_friendship('Bob', 'Eve')\n",
    "\n",
    "    # Find common friends between Alice and Bob\n",
    "    common_friends = sn.find_common_friends('Alice', 'Bob')\n",
    "    print(\"Common friends of Alice and Bob:\", common_friends)\n",
    "\n",
    "    # Find the nth connection\n",
    "    nth_connection = sn.find_nth_connection('Alice', 'Janice')\n",
    "    print(\"Nth connection between Alice and Janice:\", nth_connection)\n",
    "\n",
    "    nth_connection = sn.find_nth_connection('Alice', 'Eve')\n",
    "    print(\"Nth connection between Alice and Eve:\", nth_connection)\n",
    "\n",
    "    nth_connection = sn.find_nth_connection('Alice', 'Charlie')\n",
    "    print(\"Nth connection between Alice and Charlie:\", nth_connection)\n",
    "\n",
    "if __name__ == \"__main__\":\n",
    "    main()\n"
   ]
  },
  {
   "cell_type": "code",
   "execution_count": null,
   "id": "5e04b848",
   "metadata": {},
   "outputs": [],
   "source": []
  }
 ],
 "metadata": {
  "kernelspec": {
   "display_name": "Python 3 (ipykernel)",
   "language": "python",
   "name": "python3"
  },
  "language_info": {
   "codemirror_mode": {
    "name": "ipython",
    "version": 3
   },
   "file_extension": ".py",
   "mimetype": "text/x-python",
   "name": "python",
   "nbconvert_exporter": "python",
   "pygments_lexer": "ipython3",
   "version": "3.11.5"
  }
 },
 "nbformat": 4,
 "nbformat_minor": 5
}
